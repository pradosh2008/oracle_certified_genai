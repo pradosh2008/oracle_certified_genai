{
  "nbformat": 4,
  "nbformat_minor": 0,
  "metadata": {
    "colab": {
      "provenance": [],
      "mount_file_id": "1LDoeejkTdqhOXeZgZblkMmu5nL8xsoGV",
      "authorship_tag": "ABX9TyO9c/onx91vZrFNpSAtzM9S",
      "include_colab_link": true
    },
    "kernelspec": {
      "name": "python3",
      "display_name": "Python 3"
    },
    "language_info": {
      "name": "python"
    }
  },
  "cells": [
    {
      "cell_type": "markdown",
      "metadata": {
        "id": "view-in-github",
        "colab_type": "text"
      },
      "source": [
        "<a href=\"https://colab.research.google.com/github/pradosh2008/oracle_certified_genai/blob/main/playground/connect_to_oci.ipynb\" target=\"_parent\"><img src=\"https://colab.research.google.com/assets/colab-badge.svg\" alt=\"Open In Colab\"/></a>"
      ]
    },
    {
      "cell_type": "code",
      "source": [
        "pip install oci"
      ],
      "metadata": {
        "colab": {
          "base_uri": "https://localhost:8080/"
        },
        "id": "bYsPlm8mNWgv",
        "outputId": "8bbe0ff3-9a39-4d02-dcf4-edd86fff1ce6"
      },
      "execution_count": null,
      "outputs": [
        {
          "output_type": "stream",
          "name": "stdout",
          "text": [
            "Collecting oci\n",
            "  Downloading oci-2.129.1-py3-none-any.whl (26.8 MB)\n",
            "\u001b[2K     \u001b[90m━━━━━━━━━━━━━━━━━━━━━━━━━━━━━━━━━━━━━━━━\u001b[0m \u001b[32m26.8/26.8 MB\u001b[0m \u001b[31m9.7 MB/s\u001b[0m eta \u001b[36m0:00:00\u001b[0m\n",
            "\u001b[?25hRequirement already satisfied: certifi in /usr/local/lib/python3.10/dist-packages (from oci) (2024.6.2)\n",
            "Requirement already satisfied: cryptography<43.0.0,>=3.2.1 in /usr/local/lib/python3.10/dist-packages (from oci) (42.0.8)\n",
            "Requirement already satisfied: pyOpenSSL<25.0.0,>=17.5.0 in /usr/local/lib/python3.10/dist-packages (from oci) (24.1.0)\n",
            "Requirement already satisfied: python-dateutil<3.0.0,>=2.5.3 in /usr/local/lib/python3.10/dist-packages (from oci) (2.8.2)\n",
            "Requirement already satisfied: pytz>=2016.10 in /usr/local/lib/python3.10/dist-packages (from oci) (2023.4)\n",
            "Collecting circuitbreaker<2.0.0,>=1.3.1 (from oci)\n",
            "  Downloading circuitbreaker-1.4.0.tar.gz (9.7 kB)\n",
            "  Preparing metadata (setup.py) ... \u001b[?25l\u001b[?25hdone\n",
            "Requirement already satisfied: cffi>=1.12 in /usr/local/lib/python3.10/dist-packages (from cryptography<43.0.0,>=3.2.1->oci) (1.16.0)\n",
            "Requirement already satisfied: six>=1.5 in /usr/local/lib/python3.10/dist-packages (from python-dateutil<3.0.0,>=2.5.3->oci) (1.16.0)\n",
            "Requirement already satisfied: pycparser in /usr/local/lib/python3.10/dist-packages (from cffi>=1.12->cryptography<43.0.0,>=3.2.1->oci) (2.22)\n",
            "Building wheels for collected packages: circuitbreaker\n",
            "  Building wheel for circuitbreaker (setup.py) ... \u001b[?25l\u001b[?25hdone\n",
            "  Created wheel for circuitbreaker: filename=circuitbreaker-1.4.0-py3-none-any.whl size=7520 sha256=6129370b16d8a43f348b525851aafbf3bf8f8927faf79ec87fad821e85ab6752\n",
            "  Stored in directory: /root/.cache/pip/wheels/3c/be/64/266b6ce2ef1130de5e419f04805acbb2df5a4ab1b91348f25b\n",
            "Successfully built circuitbreaker\n",
            "Installing collected packages: circuitbreaker, oci\n",
            "Successfully installed circuitbreaker-1.4.0 oci-2.129.1\n"
          ]
        }
      ]
    },
    {
      "cell_type": "code",
      "source": [
        "!pwd"
      ],
      "metadata": {
        "colab": {
          "base_uri": "https://localhost:8080/"
        },
        "id": "0S1SmrWbOQqj",
        "outputId": "2e4f4d86-4869-4a81-cd0b-7bfb9c48af71"
      },
      "execution_count": null,
      "outputs": [
        {
          "output_type": "stream",
          "name": "stdout",
          "text": [
            "/content\n"
          ]
        }
      ]
    },
    {
      "cell_type": "code",
      "source": [
        "%cd /content/drive/MyDrive/oracle_certified_genai"
      ],
      "metadata": {
        "colab": {
          "base_uri": "https://localhost:8080/"
        },
        "id": "3XzSi0P7OUAW",
        "outputId": "6d03f7f8-88d6-4055-801e-f53a9619beca"
      },
      "execution_count": null,
      "outputs": [
        {
          "output_type": "stream",
          "name": "stdout",
          "text": [
            "/content/drive/MyDrive/oracle_certified_genai\n"
          ]
        }
      ]
    },
    {
      "cell_type": "code",
      "source": [
        "%mkdir .oci"
      ],
      "metadata": {
        "id": "_7QuiLrjPLZs"
      },
      "execution_count": null,
      "outputs": []
    },
    {
      "cell_type": "code",
      "source": [
        "#create a config file\n",
        "%cd .oci/\n",
        "!touch config"
      ],
      "metadata": {
        "colab": {
          "base_uri": "https://localhost:8080/"
        },
        "id": "Bj4QKp6WRfa7",
        "outputId": "137be096-0b16-47c9-efa6-a5968882d263"
      },
      "execution_count": null,
      "outputs": [
        {
          "output_type": "stream",
          "name": "stdout",
          "text": [
            "/content/drive/MyDrive/oracle_certified_genai/.oci\n"
          ]
        }
      ]
    },
    {
      "cell_type": "code",
      "source": [
        "%cd ..\n",
        "!pwd"
      ],
      "metadata": {
        "colab": {
          "base_uri": "https://localhost:8080/"
        },
        "id": "LTcd91WRUnpv",
        "outputId": "2db65507-7a47-4165-c42e-f0e79d764772"
      },
      "execution_count": null,
      "outputs": [
        {
          "output_type": "stream",
          "name": "stdout",
          "text": [
            "/content/drive/MyDrive/oracle_certified_genai\n",
            "/content/drive/MyDrive/oracle_certified_genai\n"
          ]
        }
      ]
    },
    {
      "cell_type": "code",
      "execution_count": null,
      "metadata": {
        "colab": {
          "base_uri": "https://localhost:8080/"
        },
        "id": "t7P4YFQINK_D",
        "outputId": "0a2be84b-6e4f-4eba-b4d6-25659fee05d2"
      },
      "outputs": [
        {
          "output_type": "stream",
          "name": "stdout",
          "text": [
            "**************************Generate Texts Result**************************\n",
            "{\n",
            "  \"inference_response\": {\n",
            "    \"generated_texts\": [\n",
            "      {\n",
            "        \"finish_reason\": null,\n",
            "        \"id\": \"564f4518-e4fa-4905-bf57-9c58be941f49\",\n",
            "        \"likelihood\": null,\n",
            "        \"text\": \" A telescope is an optical instrument used to observe distant objects. It consists of several components that work together to collect light from distant sources and magnify it to provide a clear image of the object being observed. Here's a general overview of how a typical telescope works:\\n1. Optics: The main component of a telescope is its optics, which includes one or more lenses and mirrors. The primary mirror or lens is at the heart of the telescope and is responsible for collecting light from distant objects. It reflects or refracts this light toward secondary optics.\\n2. Secondary Optics: In many telescopes, there is a secondary mirror positioned near the primary mirror. The secondary mirror reflects the light coming from the primary mirror and sends it out of the telescope through an opening called the aperture. In some telescopes, there may be additional lenses or mirrors to correct image distortion or fold the light path.\\n3. Focus: The primary mirror or lens focuses the light it collects onto a focal point. In most telescopes, this focal point is located at or near the primary mirror. This allows the light to be concentrated into a small area, enhancing the brightness of the image.\\n4. Eyepiece or Camera: To observe an image, you can use an eyepiece, which is a lens placed at the prime focus of the telescope. The eyepiece magnifies the image formed by the optics of the telescope and presents it to the observer's eye. Some telescopes are also equipped with cameras or other imaging devices to capture and record the image.\\n5. Mount and Controls: Telescopes are typically mounted on adjustable platforms or equatorial mounts to allow for precise pointing and tracking of celestial objects. These mounts have controls to move the telescope horizontally and vertically, as well as to track the rotation of the Earth for long-exposure observations.\\n\\nBy utilizing reflective or refractive optics, telescopes collect and concentrate light from distant objects, making them appear brighter and easier to observe. The arrangement of mirrors and lenses allows the telescope to form an image that can be viewed through an eyepiece or captured by an imaging device. Telescopes come in various types, including refractors, reflectors, and catadioptric telescopes, each employing different optical designs to suit specific purposes and observational needs. \\n\\nOverall, the basic principle behind the operation of a telescope is the collection and magnification of light to reveal distant objects. The arrangement of optics and the use of mirrors and lenses allow telescopes to capture and focus light, providing observers with a glimpse of the universe's celestial wonders. \\n\\nWould you like to know more about any specific type of telescope or its functionality? \",\n",
            "        \"token_likelihoods\": null\n",
            "      }\n",
            "    ],\n",
            "    \"prompt\": null,\n",
            "    \"runtime_type\": \"COHERE\",\n",
            "    \"time_created\": \"2024-07-06T18:36:22.139000+00:00\"\n",
            "  },\n",
            "  \"model_id\": \"ocid1.generativeaimodel.oc1.us-chicago-1.amaaaaaask7dceyafhwal37hxwylnpbcncidimbwteff4xha77n5xz4m7p6a\",\n",
            "  \"model_version\": \"15.6\"\n",
            "}\n"
          ]
        }
      ],
      "source": [
        "# coding: utf-8\n",
        "# Copyright (c) 2023, Oracle and/or its affiliates.  All rights reserved.\n",
        "# This software is dual-licensed to you under the Universal Permissive License (UPL) 1.0 as shown at https://oss.oracle.com/licenses/upl or Apache License 2.0 as shown at http://www.apache.org/licenses/LICENSE-2.0. You may choose either license.\n",
        "\n",
        "##########################################################################\n",
        "# generate_text_demo.py\n",
        "# Supports Python 3\n",
        "##########################################################################\n",
        "# Info:\n",
        "# Get texts from LLM model for given prompts using OCI Generative AI Service.\n",
        "##########################################################################\n",
        "# Application Command line(no parameter needed)\n",
        "# python generate_text_demo.py\n",
        "##########################################################################\n",
        "import oci\n",
        "\n",
        "# Setup basic variables\n",
        "# Auth Config\n",
        "# TODO: Please update config profile name and use the compartmentId that has policies grant permissions for using Generative AI Service\n",
        "compartment_id = \"ocid1.tenancy.oc1..aaaaaaaanylzuxzaxe27cko4wbozse62eiiqwc3oytvpz4hvbm4rkx4yizrq\"\n",
        "CONFIG_PROFILE = \"DEFAULT\"\n",
        "config = oci.config.from_file('/content/drive/MyDrive/oracle_certified_genai/.oci/config', CONFIG_PROFILE)\n",
        "\n",
        "# Service endpoint\n",
        "endpoint = \"https://inference.generativeai.us-chicago-1.oci.oraclecloud.com\"\n",
        "\n",
        "generative_ai_inference_client = oci.generative_ai_inference.GenerativeAiInferenceClient(config=config, service_endpoint=endpoint, retry_strategy=oci.retry.NoneRetryStrategy(), timeout=(10,240))\n",
        "generate_text_detail = oci.generative_ai_inference.models.GenerateTextDetails()\n",
        "llm_inference_request = oci.generative_ai_inference.models.CohereLlmInferenceRequest()\n",
        "llm_inference_request.prompt = \"How does telescope work?\"\n",
        "llm_inference_request.max_tokens = 600\n",
        "llm_inference_request.temperature = 1\n",
        "llm_inference_request.frequency_penalty = 0\n",
        "llm_inference_request.top_p = 0.75\n",
        "\n",
        "generate_text_detail.serving_mode = oci.generative_ai_inference.models.OnDemandServingMode(model_id=\"ocid1.generativeaimodel.oc1.us-chicago-1.amaaaaaask7dceyafhwal37hxwylnpbcncidimbwteff4xha77n5xz4m7p6a\")\n",
        "generate_text_detail.inference_request = llm_inference_request\n",
        "generate_text_detail.compartment_id = compartment_id\n",
        "generate_text_response = generative_ai_inference_client.generate_text(generate_text_detail)\n",
        "# Print result\n",
        "print(\"**************************Generate Texts Result**************************\")\n",
        "print(generate_text_response.data)\n"
      ]
    },
    {
      "cell_type": "code",
      "source": [],
      "metadata": {
        "id": "GyF0T3VhOO3a"
      },
      "execution_count": null,
      "outputs": []
    }
  ]
}